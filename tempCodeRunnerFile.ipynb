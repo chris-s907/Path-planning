def heuristic(node, goal):
    return 0.2*np.sqrt((node.x - goal.x)**2 + (node.y - goal.y)**2)